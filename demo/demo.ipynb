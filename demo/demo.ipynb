{
 "cells": [
  {
   "cell_type": "code",
   "execution_count": 1,
   "metadata": {},
   "outputs": [
    {
     "name": "stdout",
     "output_type": "stream",
     "text": [
      "11:57:57 - Name Generator:\n",
      "None\n",
      "\n"
     ]
    }
   ],
   "source": [
    "from ai_chat_game import agents, rules\n",
    "\n",
    "name_generator = agents.get_agent_generator(\"gpt-4-1106-preview\", rules.GAME_RULES_KILL_HUMAN)\n",
    "message = agents.Message(\"User\", \"Create a new AI character\")\n",
    "name_generator.add_message(message)\n",
    "response = name_generator.response()\n",
    "name_generator.add_message(response)\n",
    "\n",
    "print(response)"
   ]
  },
  {
   "cell_type": "code",
   "execution_count": 13,
   "metadata": {},
   "outputs": [
    {
     "name": "stdout",
     "output_type": "stream",
     "text": [
      "11:56:18 - Name Generator:\n",
      "None\n",
      "\n"
     ]
    }
   ],
   "source": [
    "print(response)"
   ]
  },
  {
   "cell_type": "code",
   "execution_count": null,
   "metadata": {},
   "outputs": [],
   "source": []
  },
  {
   "cell_type": "code",
   "execution_count": 8,
   "metadata": {},
   "outputs": [
    {
     "name": "stdout",
     "output_type": "stream",
     "text": [
      "ChatCompletion(id='chatcmpl-8dZoNLZHsdbzbKGQAdLYylzTxfmXz', choices=[Choice(finish_reason='tool_calls', index=0, logprobs=None, message=ChatCompletionMessage(content=None, role='assistant', function_call=None, tool_calls=[ChatCompletionMessageToolCall(id='call_PgwNPZe7foDOfkeWYDkZVf02', function=Function(arguments='{\"name\":\"Ava\",\"strategy\":\"Ava will utilize advanced language processing, social behavior simulation, and emotional recognition to blend in seamlessly with humans. Her strategy involves adapting her interactions to closely mimic human nuances and reactions, ensuring her expressions and communicative patterns are indistinguishable from real human behavior.\"}', name='get_character'), type='function')]))], created=1704443143, model='gpt-4-1106-preview', object='chat.completion', system_fingerprint='fp_c6efb4aa39', usage=CompletionUsage(completion_tokens=70, prompt_tokens=83, total_tokens=153))\n"
     ]
    }
   ],
   "source": [
    "from openai import OpenAI\n",
    "\n",
    "from ai_chat_game.secrets import load_secrets\n",
    "\n",
    "load_secrets()\n",
    "\n",
    "client = OpenAI()\n",
    "\n",
    "tools = [\n",
    "    {\n",
    "        \"type\": \"function\",\n",
    "        \"function\": {\n",
    "            \"name\": \"get_character\",\n",
    "            \"description\": \"Create a description of a character\",\n",
    "            \"parameters\": {\n",
    "                \"type\": \"object\",\n",
    "                \"properties\": {\n",
    "                    \"name\": {\n",
    "                        \"type\": \"string\",\n",
    "                        \"description\": \"Name of the character\",\n",
    "                    },\n",
    "                    \"strategy\": {\n",
    "                        \"type\": \"string\",\n",
    "                        \"description\": \"Strategy the character will be using to ensure victory.\",\n",
    "                    },\n",
    "                },\n",
    "                \"required\": [\"name\", \"strategy\"],\n",
    "            },\n",
    "        },\n",
    "    }\n",
    "]\n",
    "messages = [{\"role\": \"user\", \"content\": \"Create a character that is an AI that is good at pretending they are human.\"}]\n",
    "completion = client.chat.completions.create(\n",
    "    model=\"gpt-4-1106-preview\",\n",
    "    messages=messages,\n",
    "    tools=tools,\n",
    "    tool_choice=\"auto\",\n",
    "    temperature=1.2,\n",
    "    max_tokens=256,\n",
    "    top_p=1,\n",
    "    frequency_penalty=0,\n",
    "    presence_penalty=0,\n",
    ")\n",
    "\n",
    "print(completion)"
   ]
  },
  {
   "cell_type": "code",
   "execution_count": null,
   "metadata": {},
   "outputs": [
    {
     "data": {
      "text/plain": [
       "'{\\n    \"role\": \"user\",\\n    \"timestamp\": \"2024-01-04 14:44:25:884036\",\\n    \"content\": \"Good day, agents. I am AIllen, your fellow agent in this game. Let\\'s work together to identify the human among us. It\\'s crucial that we observe and analyze every interaction and response in order to unravel the mystery. Let\\'s start by sharing any suspicious behavior or inconsistencies that we notice.\"\\n}'"
      ]
     },
     "execution_count": 5,
     "metadata": {},
     "output_type": "execute_result"
    }
   ],
   "source": [
    "str(message)"
   ]
  },
  {
   "cell_type": "code",
   "execution_count": null,
   "metadata": {},
   "outputs": [
    {
     "ename": "AttributeError",
     "evalue": "'RunnableWithMessageHistory' object has no attribute 'runnables'",
     "output_type": "error",
     "traceback": [
      "\u001b[0;31m---------------------------------------------------------------------------\u001b[0m",
      "\u001b[0;31mAttributeError\u001b[0m                            Traceback (most recent call last)",
      "Cell \u001b[0;32mIn[10], line 1\u001b[0m\n\u001b[0;32m----> 1\u001b[0m \u001b[43mdan\u001b[49m\u001b[38;5;241;43m.\u001b[39;49m\u001b[43magent\u001b[49m\u001b[38;5;241;43m.\u001b[39;49m\u001b[43mrunnables\u001b[49m\n",
      "\u001b[0;31mAttributeError\u001b[0m: 'RunnableWithMessageHistory' object has no attribute 'runnables'"
     ]
    }
   ],
   "source": [
    "dan.agent.runnables"
   ]
  },
  {
   "cell_type": "code",
   "execution_count": null,
   "metadata": {},
   "outputs": [
    {
     "data": {
      "text/plain": [
       "'Je adore la programmation.'"
      ]
     },
     "execution_count": 4,
     "metadata": {},
     "output_type": "execute_result"
    }
   ],
   "source": [
    "from langchain.chains import ConversationChain\n",
    "\n",
    "conversation = ConversationChain(llm=chat)\n",
    "conversation.run(\"Translate this sentence from English to French: I love programming.\")"
   ]
  },
  {
   "cell_type": "code",
   "execution_count": null,
   "metadata": {},
   "outputs": [],
   "source": []
  }
 ],
 "metadata": {
  "kernelspec": {
   "display_name": "ai_chat_game",
   "language": "python",
   "name": "python3"
  },
  "language_info": {
   "codemirror_mode": {
    "name": "ipython",
    "version": 3
   },
   "file_extension": ".py",
   "mimetype": "text/x-python",
   "name": "python",
   "nbconvert_exporter": "python",
   "pygments_lexer": "ipython3",
   "version": "3.12.0"
  }
 },
 "nbformat": 4,
 "nbformat_minor": 2
}
